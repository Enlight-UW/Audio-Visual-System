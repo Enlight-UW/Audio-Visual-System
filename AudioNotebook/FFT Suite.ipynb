{
 "cells": [
  {
   "cell_type": "markdown",
   "metadata": {},
   "source": [
    "# FFT Transformations, Discretization, and Representation by Russel Mendes\n",
    "\n",
    "A Fourier transform decomposes a function of time into its constituent frequencies. This is useful in analyzing an audio file for its frequencies, the power of those frequencies, and the time of those frequencies. This details the process of Fourier Transform on each unit of the song. We can then represent the data from these transformations for an artistic rendering. This notebook will help show the underlying process. "
   ]
  },
  {
   "cell_type": "markdown",
   "metadata": {},
   "source": [
    "## Collecting Data\n",
    "Since FFT are a long and computationally heavy task. It is often prudent to save the data."
   ]
  },
  {
   "cell_type": "markdown",
   "metadata": {},
   "source": [
    "#### Step 1) Load Dependencies and Song"
   ]
  },
  {
   "cell_type": "code",
   "execution_count": 4,
   "metadata": {},
   "outputs": [],
   "source": [
    "\"\"\"\n",
    "Author: Russel Mendes\n",
    "\"\"\"\n",
    "import numpy as np\n",
    "from numpy import fft as fft\n",
    "from scipy.io import wavfile\n",
    "import pickle\n",
    "\n",
    "pathToSong = 'CastleOfGlass.wav'\n",
    "samplingFrequency, signalData = wavfile.read(pathToSong)\n",
    "#samplingFrequency is the number of time the song has been sampled a second\n",
    "#signalData is the data that holds the audio data of the song\n",
    "\n",
    "channel1=signalData[:,0] #Some songs may have more than 1 channel"
   ]
  },
  {
   "cell_type": "markdown",
   "metadata": {},
   "source": [
    "#### Step 2) PreProcessing"
   ]
  },
  {
   "cell_type": "code",
   "execution_count": 5,
   "metadata": {},
   "outputs": [
    {
     "name": "stdout",
     "output_type": "stream",
     "text": [
      "Number of Data Sets in Data: 20551\n",
      "Number of Data Points in Set: 441\n",
      "RefreshRate: 0.01\n",
      "EstimatedTime: 205.51\n"
     ]
    }
   ],
   "source": [
    "#Before the data of the song is sampled, we can premodify it depending our needs\n",
    "#For Example, setting the dilationFactor to 100. The amount of data points will increase by a factor\n",
    "#of 100. The REFRESH variable denotes how fast the data needs to replaced in seconds to match the \n",
    "#original speed of the song\n",
    "#dilationFactor = 1 is a default per second analysis\n",
    "\n",
    "dilationFactor = 100\n",
    "n = int(samplingFrequency/dilationFactor)\n",
    "REFRESH = 1/dilationFactor\n",
    "\n",
    "extended = [channel1[i * n:(i + 1) * n] for i in range((len(channel1) + n - 1) // n )]  \n",
    "print(\"Number of Data Sets in Data: \" + str(len(extended)))\n",
    "print(\"Number of Data Points in Set: \" + str(len(extended[0])))\n",
    "print(\"RefreshRate: \" + str(REFRESH))\n",
    "print(\"EstimatedTime: \" + str((len(extended))/(1/REFRESH)))"
   ]
  },
  {
   "cell_type": "markdown",
   "metadata": {},
   "source": [
    "#### Step 3) Processing and Pickling Data"
   ]
  },
  {
   "cell_type": "code",
   "execution_count": 4,
   "metadata": {},
   "outputs": [],
   "source": [
    "pickledFourier = []\n",
    "#For every data set in the extended set. We are conducting a FFT, which we are storing for later \n",
    "#pickling\n",
    "for data in extended:\n",
    "    fourier=fft.fft(data) \n",
    "    pickledFourier.append(fourier)\n",
    "    \n",
    "name = 'CastleOfGlass_Of_%s_DataSsets_With_%s_DataPoints.p' % (len(extended),len(extended[0]))\n",
    "pickle.dump(pickledFourier, open( name, \"wb\" ) )"
   ]
  },
  {
   "cell_type": "markdown",
   "metadata": {},
   "source": [
    "## Plotting FFT\n"
   ]
  },
  {
   "cell_type": "markdown",
   "metadata": {},
   "source": [
    "#### Step 1) Import and Load Relevant Dependencies"
   ]
  },
  {
   "cell_type": "code",
   "execution_count": 6,
   "metadata": {},
   "outputs": [],
   "source": [
    "import matplotlib.pyplot as plt\n",
    "import numpy as np\n",
    "import math\n",
    "import pickle\n",
    "\n",
    "infile = open(\"CastleOfGlass_Of_206_DataSsets_With_44100_DataPoints.p\",'rb')\n",
    "FFTrepo = pickle.load(infile)\n",
    "infile.close()"
   ]
  },
  {
   "cell_type": "markdown",
   "metadata": {},
   "source": [
    "#### Step 2) Plotting Continous FFT\n",
    "For a given FFT in a the FFTrepo, this section will show how to plot continous FFT"
   ]
  },
  {
   "cell_type": "code",
   "execution_count": 7,
   "metadata": {},
   "outputs": [
    {
     "name": "stderr",
     "output_type": "stream",
     "text": [
      "C:\\Users\\Russel\\Anaconda3\\lib\\site-packages\\numpy\\core\\numeric.py:538: ComplexWarning: Casting complex values to real discards the imaginary part\n",
      "  return array(a, dtype, copy=False, order=order)\n"
     ]
    },
    {
     "data": {
      "text/plain": [
       "<matplotlib.text.Text at 0x25503c6b470>"
      ]
     },
     "execution_count": 7,
     "metadata": {},
     "output_type": "execute_result"
    },
    {
     "data": {
      "image/png": "[encoded data removed]",
      "text/plain": [
       "<matplotlib.figure.Figure at 0x25500c68fd0>"
      ]
     },
     "metadata": {
      "needs_background": "light"
     },
     "output_type": "display_data"
    }
   ],
   "source": [
    "fourier = FFTrepo[200] #an arbitray data set\n",
    "samplingFrequency = 44100 #sampling Frequency from the Earlier Secion\n",
    "X = samplingFrequency\n",
    "\n",
    "fourier = fourier[0:math.floor(X/2)] #Reducing Redundency in the Dataset\n",
    "# scale by the number of points so that the magnitude does not depend on the length\n",
    "fourier = fourier / float(X)\n",
    "freqArray = np.arange(0, (X/2), 1.0) * (samplingFrequency*1.0/X)\n",
    "\n",
    "#Modify The DataSets so it becomes readible\n",
    "powerDB = 10*np.log10(fourier)\n",
    "freqArray = freqArray/1000\n",
    "\n",
    "#Plotting the data\n",
    "plt.plot(freqArray, powerDB, color='#ff7f00', linewidth=0.02)\n",
    "plt.xlabel('Frequency (kHz)')\n",
    "plt.ylabel('Power (dB)')\n",
    "#Keep in mind. The data for each sound file is unique as compression plays a \n",
    "#factor in audio quality"
   ]
  },
  {
   "cell_type": "markdown",
   "metadata": {},
   "source": [
    "#### Plotting Discrete FFT\n",
    "Since FFT is often continous and many discrete data points. Sometimes, reducing the data into smaller chunks is advisable. In otherwise, making the data even more discrete. This section will use the same values from above"
   ]
  },
  {
   "cell_type": "code",
   "execution_count": 8,
   "metadata": {},
   "outputs": [],
   "source": [
    "def ChunkAverage(ChunkyArray):\n",
    "    \"\"\"\n",
    "    Take an array of with subelements of samples, and average them into a \n",
    "    discrete list.\n",
    "    \n",
    "    Params:\n",
    "    ChunkyArray - an array with elements of arrays that contains data\n",
    "    \n",
    "    Returns:\n",
    "    normArray - an average of all data elements ChunkyArray per element\n",
    "    \"\"\"\n",
    "    num_Chunks = len(ChunkyArray)\n",
    "    normArray = []\n",
    "    for data in ChunkyArray:\n",
    "        avgData = np.average(data)\n",
    "        normArray.append(avgData)\n",
    "    return normArray"
   ]
  },
  {
   "cell_type": "code",
   "execution_count": 9,
   "metadata": {},
   "outputs": [
    {
     "name": "stderr",
     "output_type": "stream",
     "text": [
      "C:\\Users\\Russel\\Anaconda3\\lib\\site-packages\\numpy\\core\\numeric.py:591: ComplexWarning: Casting complex values to real discards the imaginary part\n",
      "  return array(a, dtype, copy=False, order=order, subok=True)\n"
     ]
    },
    {
     "data": {
      "text/plain": [
       "<matplotlib.collections.PathCollection at 0x25503dd1b70>"
      ]
     },
     "execution_count": 9,
     "metadata": {},
     "output_type": "execute_result"
    },
    {
     "data": {
      "image/png": "[encoded data removed]",
      "text/plain": [
       "<matplotlib.figure.Figure at 0x25503d2dc18>"
      ]
     },
     "metadata": {
      "needs_background": "light"
     },
     "output_type": "display_data"
    }
   ],
   "source": [
    "Partition = 100 #Reducing the data to 100 discrete data points\n",
    "dataPerChunk = len(freqArray) / Partition #FreqArray and powerDB are the same size\n",
    "n = int(dataPerChunk)\n",
    "\n",
    "freqArrayChunks = [freqArray[i * n:(i + 1) * n] for i in range((len(freqArray) + n - 1) // n )]  \n",
    "powerDBChunk = [powerDB[i * n:(i + 1) * n] for i in range((len(powerDB) + n - 1) // n )] \n",
    "\n",
    "normFreqChunks = ChunkAverage(freqArrayChunks)\n",
    "normpowerDBChunk = ChunkAverage(powerDBChunk)\n",
    "\n",
    "plt.scatter(normFreqChunks,normpowerDBChunk )"
   ]
  },
  {
   "cell_type": "markdown",
   "metadata": {},
   "source": [
    "## Making a GIF representation of FFT\n",
    "Since the data from each second of a FFT can be transcribed. Many manipulations can be done with this data. For this program, a gif will be made about the change in frequencies per unit of time. But any manipulation of data can be done."
   ]
  },
  {
   "cell_type": "markdown",
   "metadata": {},
   "source": [
    "#### Step 1) Import Dependencies"
   ]
  },
  {
   "cell_type": "code",
   "execution_count": 10,
   "metadata": {},
   "outputs": [],
   "source": [
    "import matplotlib.pyplot as plt\n",
    "import numpy as np\n",
    "import math\n",
    "import pickle\n",
    "from PIL import Image\n",
    "\n",
    "infile = open(\"CastleOfGlass_Of_206_DataSsets_With_44100_DataPoints.p\",'rb')\n",
    "FFTrepo = pickle.load(infile)\n",
    "infile.close()"
   ]
  },
  {
   "cell_type": "markdown",
   "metadata": {},
   "source": [
    "#### Step 2) Load Helper Functions"
   ]
  },
  {
   "cell_type": "code",
   "execution_count": 11,
   "metadata": {},
   "outputs": [],
   "source": [
    "#This helps load the data into a useable per chunk format\n",
    "def createFreqArrayPowerDB(FFTrepo, index):\n",
    "    \"\"\"\n",
    "    Take a FFT repository of data and access a specific element at the given\n",
    "    index\n",
    "    \n",
    "    Params:\n",
    "    FFTrepo - an array of FFT data\n",
    "    index - an integer to access an element\n",
    "    \n",
    "    Returns:\n",
    "    freqArray - an array of frequencies\n",
    "    powerDB - an array of DB points corresponding to a frequency point\n",
    "    \n",
    "    \"\"\"\n",
    "    fourier = FFTrepo[index] #an arbitray data set\n",
    "    samplingFrequency = 44100 #sampling Frequency from the Earlier Secion\n",
    "    X = samplingFrequency\n",
    "\n",
    "    fourier = fourier[0:math.floor(X/2)] #Reducing Redundency in the Dataset\n",
    "    # scale by the number of points so that the magnitude does not depend on the length\n",
    "    fourier = fourier / float(X)\n",
    "    freqArray = np.arange(0, (X/2), 1.0) * (samplingFrequency*1.0/X)\n",
    "\n",
    "    #Modify The DataSets so it becomes readible\n",
    "    powerDB = 10*np.log10(fourier)\n",
    "    freqArray = freqArray/1000\n",
    "    \n",
    "    return freqArray, powerDB"
   ]
  },
  {
   "cell_type": "code",
   "execution_count": 12,
   "metadata": {},
   "outputs": [],
   "source": [
    "def ChunkAverage(ChunkyArray):\n",
    "    \"\"\"\n",
    "    Take an array of with subelements of samples, and average them into a \n",
    "    discrete list.\n",
    "    \n",
    "    Params:\n",
    "    ChunkyArray - an array with elements of arrays that contains data\n",
    "    \n",
    "    Returns:\n",
    "    normArray - an average of all data elements ChunkyArray per element\n",
    "    \"\"\"\n",
    "    normArray = []\n",
    "    for data in ChunkyArray:\n",
    "        avgData = np.average(data)\n",
    "        normArray.append(avgData)\n",
    "    return normArray"
   ]
  },
  {
   "cell_type": "code",
   "execution_count": 13,
   "metadata": {},
   "outputs": [],
   "source": [
    "#This function creates an average array with x amount of partitions\n",
    "def createNormFreqPower(freqArray, powerDB, Partition = 100):\n",
    "    dataPerChunk = len(freqArray) / Partition #FreqArray and powerDB are the same size\n",
    "    n = int(dataPerChunk)\n",
    "    freqArrayChunks = [freqArray[i * n:(i + 1) * n] for i in range((len(freqArray) + n - 1) // n )]  \n",
    "    powerDBChunk = [powerDB[i * n:(i + 1) * n] for i in range((len(powerDB) + n - 1) // n )] \n",
    "    normFreqChunks = ChunkAverage(freqArrayChunks)\n",
    "    normPowerDBChunks = ChunkAverage(powerDBChunk)\n",
    "    return normFreqChunks, normPowerDBChunks"
   ]
  },
  {
   "cell_type": "code",
   "execution_count": 14,
   "metadata": {},
   "outputs": [],
   "source": [
    "def RaiseValue(array):\n",
    "    \"\"\"\n",
    "    This function converts a complex array into simply a real array by removing\n",
    "    the complex portion. It then takes the absolute value of the data\n",
    "    \n",
    "    Params:\n",
    "    array - an array of data\n",
    "    \n",
    "    Returns:\n",
    "    array - the arguement array but modified\n",
    "    \"\"\"\n",
    "    for i in range(len(array)):    \n",
    "        array[i] = np.abs(np.real(array[i]))\n",
    "    return array"
   ]
  },
  {
   "cell_type": "code",
   "execution_count": 1,
   "metadata": {},
   "outputs": [],
   "source": [
    "def give_RGB(row, col, powerDB, Adjust):\n",
    "    \"\"\"\n",
    "    For a given pixel, adjustment factor, and DB value, return a RGB value \n",
    "    based on a formula\n",
    "    \n",
    "    Params:\n",
    "    row - row of the pixel\n",
    "    col - col of the pixel\n",
    "    powerDB - an array of discrete DB values\n",
    "    Adjust - a scalar that adjusts the maximum height for the image\n",
    "    \n",
    "    Returns:\n",
    "    R - an integer between 0-255\n",
    "    G - an integer between 0-255\n",
    "    B - an integer between 0-255 \n",
    "    \"\"\"\n",
    " \n",
    "    R = 0\n",
    "    G = 0\n",
    "    B = 0\n",
    "    \n",
    "    if col <= len(powerDB): #Check if the col is valid under the powerDB array\n",
    "        try:\n",
    "            maxHeight = powerDB[col]\n",
    "            pixelHeight = maxHeight * Adjust\n",
    "            if(row < pixelHeight):\n",
    "                R = math.sin(row * col*3.14) * 255\n",
    "                G = 0\n",
    "                B = 0\n",
    "        except:\n",
    "            spacer = \"\"\n",
    "         #   print(col)\n",
    "        \n",
    "    return (int(R),int(G),int(B))"
   ]
  },
  {
   "cell_type": "code",
   "execution_count": 34,
   "metadata": {},
   "outputs": [],
   "source": [
    "def createFrames(raisedFreqChunks, raisedPowerDBChunks, XDIM = 100, YDIM = 100, floor = False):\n",
    "    \"\"\"\n",
    "    This function takes an array of frequency and it corresponding power and few \n",
    "    other parameters and creates an image.\n",
    "    \n",
    "    Params:\n",
    "    raisedFreqChunks - an array of discrete frequencies\n",
    "    raisedPowerChunks - an array of corresponding DB\n",
    "    XDIM - x dimension of the image\n",
    "    YDIM - y dimension of the image\n",
    "    floor - flooring the image DEPRACTED\n",
    "    \n",
    "    Returns:\n",
    "    new_image = a PIL image \n",
    "    \"\"\"\n",
    "    \n",
    "    DATAPOINTS = len(raisedFreqChunks)\n",
    "    THICKNESS = int(np.round(XDIM/DATAPOINTS))\n",
    "\n",
    "    img_array = []\n",
    "    img_array = np.empty((YDIM,XDIM,3), dtype=np.uint8)\n",
    "    for row in range(YDIM):\n",
    "        for col in range(XDIM):\n",
    "            if floor:\n",
    "                Width = math.floor(col/THICKNESS)\n",
    "            else:\n",
    "                Width = int(col/THICKNESS)\n",
    "            img_array[row][col] = give_RGB(row, Width, raisedPowerDBChunks, 3)\n",
    "    new_image = Image.fromarray(img_array)\n",
    "    new_image = new_image.rotate(180)\n",
    "    new_image = new_image.transpose(Image.FLIP_LEFT_RIGHT)\n",
    "    return new_image"
   ]
  },
  {
   "cell_type": "code",
   "execution_count": 3,
   "metadata": {},
   "outputs": [],
   "source": [
    "def createGIF(pickleFile, showStep = False):\n",
    "    \"\"\"\n",
    "    Creates a GIF based on a pickleFile that contains FFT information of a song\n",
    "    Saves the GIF locally to the file location of this project\n",
    "    \n",
    "    Params:\n",
    "    pickleFile - a pickle file with FFT information\n",
    "    showStep - true/false on whether to show the progress of the gif creation\n",
    "    \n",
    "    \"\"\"\n",
    "    splitName = pickleFile.split('_')\n",
    "    frames = []\n",
    "    infile = open(pickleFile,'rb')\n",
    "    FFTrepo = pickle.load(infile)\n",
    "    infile.close()\n",
    "    for i in range(len(FFTrepo)):\n",
    "        if showStep:\n",
    "            print(\"STEP: \" + str(i))\n",
    "        freqArray, powerDB = createFreqArrayPowerDB(FFTrepo, i)\n",
    "        normFreqChunks, normPowerDBChunks = createNormFreqPower(freqArray, powerDB, 150)\n",
    "        raisedFreqChunks = RaiseValue(normFreqChunks)\n",
    "        raisedPowerDBChunks = RaiseValue(normPowerDBChunks)\n",
    "        frames.append(createFrames(raisedFreqChunks, raisedPowerDBChunks, XDIM = 500, floor = True))\n",
    "    name = splitName[0]+\".gif\"\n",
    "    frames[0].save(name, format='GIF', append_images=frames[1:], save_all=True, duration=205, loop=0)\n",
    "\n",
    "        "
   ]
  },
  {
   "cell_type": "code",
   "execution_count": null,
   "metadata": {},
   "outputs": [],
   "source": [
    "pickleFile = \"CastleOfGlass_Of_206_DataSsets_With_44100_DataPoints.p\"\n",
    "createGIF(pickleFile)"
   ]
  },
  {
   "cell_type": "code",
   "execution_count": null,
   "metadata": {},
   "outputs": [],
   "source": []
  }
 ],
 "metadata": {
  "kernelspec": {
   "display_name": "Python 3",
   "language": "python",
   "name": "python3"
  },
  "language_info": {
   "codemirror_mode": {
    "name": "ipython",
    "version": 3
   },
   "file_extension": ".py",
   "mimetype": "text/x-python",
   "name": "python",
   "nbconvert_exporter": "python",
   "pygments_lexer": "ipython3",
   "version": "3.6.7"
  }
 },
 "nbformat": 4,
 "nbformat_minor": 2
}
